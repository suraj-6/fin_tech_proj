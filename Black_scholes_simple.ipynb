{
 "cells": [
  {
   "cell_type": "code",
   "execution_count": 1,
   "id": "f9d70361-b87f-4c4a-b475-896b3ca7309e",
   "metadata": {},
   "outputs": [],
   "source": [
    "import math\n",
    "from scipy.stats import norm"
   ]
  },
  {
   "cell_type": "code",
   "execution_count": 2,
   "id": "e2bbc961-3844-4f64-815c-41e799d00381",
   "metadata": {},
   "outputs": [],
   "source": [
    "S = 45  # Underlying Price\n",
    "K = 40  # Strike Price\n",
    "T = 2   # Time to Expiration\n",
    "r = 0.1 # Risk-Free Rate\n",
    "vol = 0.1 # Volatility (σ)"
   ]
  },
  {
   "cell_type": "code",
   "execution_count": 3,
   "id": "04ec5726-6448-479d-87f8-8e3dfc864893",
   "metadata": {},
   "outputs": [],
   "source": [
    "d1 = (math.log(S/K) + (r + 0.5 * vol**2)*T ) / (vol * math.sqrt(T))"
   ]
  },
  {
   "cell_type": "code",
   "execution_count": 4,
   "id": "9670fc29-0795-466c-a9f4-509a7e9e6032",
   "metadata": {},
   "outputs": [],
   "source": [
    "d2 = d1 - (vol * math.sqrt(T))"
   ]
  },
  {
   "cell_type": "code",
   "execution_count": 5,
   "id": "c6e4110c-e3bd-4832-b200-9bba48dcd680",
   "metadata": {},
   "outputs": [],
   "source": [
    "C = S * norm.cdf(d1) - K * math.exp(-r * T) * norm.cdf(d2)"
   ]
  },
  {
   "cell_type": "code",
   "execution_count": 6,
   "id": "943db3f3-bfab-4964-82d0-cadafdec9107",
   "metadata": {},
   "outputs": [],
   "source": [
    "P = K * math.exp(-r * T) * norm.cdf(-d2) - S * norm.cdf(-d1)"
   ]
  },
  {
   "cell_type": "code",
   "execution_count": 7,
   "id": "c486e2df-11ba-4c31-b5ef-cf1a262c378c",
   "metadata": {},
   "outputs": [
    {
     "name": "stdout",
     "output_type": "stream",
     "text": [
      "The value of d1 is:  2.3178\n",
      "The value of d2 is:  2.1764\n",
      "The price of the call option is: $ 12.27\n",
      "The price of the put option is: $ 0.02\n"
     ]
    }
   ],
   "source": [
    "print('The value of d1 is: ', round(d1, 4))\n",
    "print('The value of d2 is: ', round(d2, 4))\n",
    "print('The price of the call option is: $', round(C, 2))\n",
    "print('The price of the put option is: $', round(P, 2))"
   ]
  },
  {
   "cell_type": "code",
   "execution_count": null,
   "id": "4388f42c-aec5-4d35-aebd-8ba329941c23",
   "metadata": {},
   "outputs": [],
   "source": []
  }
 ],
 "metadata": {
  "kernelspec": {
   "display_name": "Python 3 (ipykernel)",
   "language": "python",
   "name": "python3"
  },
  "language_info": {
   "codemirror_mode": {
    "name": "ipython",
    "version": 3
   },
   "file_extension": ".py",
   "mimetype": "text/x-python",
   "name": "python",
   "nbconvert_exporter": "python",
   "pygments_lexer": "ipython3",
   "version": "3.12.6"
  }
 },
 "nbformat": 4,
 "nbformat_minor": 5
}
